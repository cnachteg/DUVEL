{
 "cells": [
  {
   "cell_type": "markdown",
   "metadata": {},
   "source": [
    "# Split the dataset"
   ]
  },
  {
   "cell_type": "code",
   "execution_count": 1,
   "metadata": {},
   "outputs": [],
   "source": [
    "import pandas as pd\n",
    "from datasets import (\n",
    "    Features, \n",
    "    ClassLabel, \n",
    "    Value,\n",
    "    Dataset,\n",
    "    DatasetDict,\n",
    ")"
   ]
  },
  {
   "cell_type": "code",
   "execution_count": 2,
   "metadata": {},
   "outputs": [],
   "source": [
    "DATA_DIRECTORY = \"data/\""
   ]
  },
  {
   "cell_type": "code",
   "execution_count": 5,
   "metadata": {},
   "outputs": [],
   "source": [
    "table_data = pd.read_csv(f\"{DATA_DIRECTORY}data_all.tsv\", sep='\\t', na_values=\"None\", dtype={'gene1':'str','gene2':'str','variant1':'str','variant2':'str', 'sentence':'str'})\n",
    "table_data = table_data.dropna()\n",
    "table_data = table_data.drop(table_data.loc[table_data.label == -1].index)\n",
    "#table_data = table_data.drop('num_tokens', axis=1)\n",
    "table_data.label = table_data.label.astype('int32')\n",
    "table_data.pmcid = table_data.pmcid.astype('int32')\n",
    "features = Features({'sentence': Value('string'), 'pmcid':Value('int32'), 'gene1':Value('string'),\n",
    "                     'gene2':Value('string'), 'variant1':Value('string'), 'variant2':Value('string'), 'label':ClassLabel(names=[0,1])})\n",
    "data = Dataset.from_pandas(table_data.drop('num_tokens', axis=1),features=features, preserve_index=True)"
   ]
  },
  {
   "cell_type": "code",
   "execution_count": 6,
   "metadata": {},
   "outputs": [
    {
     "data": {
      "text/plain": [
       "8442"
      ]
     },
     "execution_count": 6,
     "metadata": {},
     "output_type": "execute_result"
    }
   ],
   "source": [
    "len(data['pmcid'])"
   ]
  },
  {
   "cell_type": "code",
   "execution_count": 7,
   "metadata": {},
   "outputs": [],
   "source": [
    "split = data.train_test_split(test_size=0.2, shuffle=True, stratify_by_column='label', seed=13)"
   ]
  },
  {
   "cell_type": "code",
   "execution_count": 8,
   "metadata": {},
   "outputs": [],
   "source": [
    "split_train = split['train']"
   ]
  },
  {
   "cell_type": "code",
   "execution_count": 9,
   "metadata": {},
   "outputs": [],
   "source": [
    "train_dev = split_train.train_test_split(test_size=200, shuffle=True, stratify_by_column='label', seed=13)"
   ]
  },
  {
   "cell_type": "code",
   "execution_count": 10,
   "metadata": {},
   "outputs": [],
   "source": [
    "dataset = DatasetDict({\n",
    "    'train' : train_dev['train'],\n",
    "    'validation' : train_dev['test'],\n",
    "    'test' : split['test']\n",
    "})"
   ]
  },
  {
   "cell_type": "code",
   "execution_count": 11,
   "metadata": {},
   "outputs": [
    {
     "data": {
      "text/plain": [
       "DatasetDict({\n",
       "    train: Dataset({\n",
       "        features: ['sentence', 'pmcid', 'gene1', 'gene2', 'variant1', 'variant2', 'label'],\n",
       "        num_rows: 6553\n",
       "    })\n",
       "    validation: Dataset({\n",
       "        features: ['sentence', 'pmcid', 'gene1', 'gene2', 'variant1', 'variant2', 'label'],\n",
       "        num_rows: 200\n",
       "    })\n",
       "    test: Dataset({\n",
       "        features: ['sentence', 'pmcid', 'gene1', 'gene2', 'variant1', 'variant2', 'label'],\n",
       "        num_rows: 1689\n",
       "    })\n",
       "})"
      ]
     },
     "execution_count": 11,
     "metadata": {},
     "output_type": "execute_result"
    }
   ],
   "source": [
    "dataset"
   ]
  },
  {
   "cell_type": "code",
   "execution_count": 12,
   "metadata": {},
   "outputs": [
    {
     "name": "stdout",
     "output_type": "stream",
     "text": [
      "Stats for the test split\n"
     ]
    },
    {
     "data": {
      "application/vnd.jupyter.widget-view+json": {
       "model_id": "818773b13f4b402c9a3fb9f6aeeadcfc",
       "version_major": 2,
       "version_minor": 0
      },
      "text/plain": [
       "  0%|          | 0/2 [00:00<?, ?ba/s]"
      ]
     },
     "metadata": {},
     "output_type": "display_data"
    },
    {
     "data": {
      "application/vnd.jupyter.widget-view+json": {
       "model_id": "a63d3c43893d4ee2b5a9991f68556a8f",
       "version_major": 2,
       "version_minor": 0
      },
      "text/plain": [
       "  0%|          | 0/2 [00:00<?, ?ba/s]"
      ]
     },
     "metadata": {},
     "output_type": "display_data"
    },
    {
     "data": {
      "application/vnd.jupyter.widget-view+json": {
       "model_id": "cc4da6cde9c74c55a00ceae99b56ced1",
       "version_major": 2,
       "version_minor": 0
      },
      "text/plain": [
       "  0%|          | 0/2 [00:00<?, ?ba/s]"
      ]
     },
     "metadata": {},
     "output_type": "display_data"
    },
    {
     "data": {
      "application/vnd.jupyter.widget-view+json": {
       "model_id": "cccf9ff6c36c47d1b7b4455a96d3ed6f",
       "version_major": 2,
       "version_minor": 0
      },
      "text/plain": [
       "  0%|          | 0/2 [00:00<?, ?ba/s]"
      ]
     },
     "metadata": {},
     "output_type": "display_data"
    },
    {
     "name": "stdout",
     "output_type": "stream",
     "text": [
      "Total number of examples : 1689\n",
      "Number of positive examples : 159\n",
      "Fraction of positive examples : 0.0941385435168739\n",
      "Total number of articles : 75\n",
      "Numer of articles for positive examples : 51\n",
      "Numer of articles for negative examples : 73\n",
      "Stats for the validation split\n"
     ]
    },
    {
     "data": {
      "application/vnd.jupyter.widget-view+json": {
       "model_id": "bbb04888b7a64529ae3177bf562ae27d",
       "version_major": 2,
       "version_minor": 0
      },
      "text/plain": [
       "  0%|          | 0/1 [00:00<?, ?ba/s]"
      ]
     },
     "metadata": {},
     "output_type": "display_data"
    },
    {
     "data": {
      "application/vnd.jupyter.widget-view+json": {
       "model_id": "bd90ed0784964d34aa5b86dc38bbabaf",
       "version_major": 2,
       "version_minor": 0
      },
      "text/plain": [
       "  0%|          | 0/1 [00:00<?, ?ba/s]"
      ]
     },
     "metadata": {},
     "output_type": "display_data"
    },
    {
     "data": {
      "application/vnd.jupyter.widget-view+json": {
       "model_id": "ff80495ea6524f32aad3c8f0f85258be",
       "version_major": 2,
       "version_minor": 0
      },
      "text/plain": [
       "  0%|          | 0/1 [00:00<?, ?ba/s]"
      ]
     },
     "metadata": {},
     "output_type": "display_data"
    },
    {
     "data": {
      "application/vnd.jupyter.widget-view+json": {
       "model_id": "38d1150109c04309a67bda236443dd29",
       "version_major": 2,
       "version_minor": 0
      },
      "text/plain": [
       "  0%|          | 0/1 [00:00<?, ?ba/s]"
      ]
     },
     "metadata": {},
     "output_type": "display_data"
    },
    {
     "name": "stdout",
     "output_type": "stream",
     "text": [
      "Total number of examples : 200\n",
      "Number of positive examples : 19\n",
      "Fraction of positive examples : 0.095\n",
      "Total number of articles : 51\n",
      "Numer of articles for positive examples : 12\n",
      "Numer of articles for negative examples : 50\n",
      "Stats for the train split\n"
     ]
    },
    {
     "data": {
      "application/vnd.jupyter.widget-view+json": {
       "model_id": "b436ae67d6ce4998bed83152c767fd4f",
       "version_major": 2,
       "version_minor": 0
      },
      "text/plain": [
       "  0%|          | 0/7 [00:00<?, ?ba/s]"
      ]
     },
     "metadata": {},
     "output_type": "display_data"
    },
    {
     "data": {
      "application/vnd.jupyter.widget-view+json": {
       "model_id": "c1d5f8ead8194c2aaf4edbf8ce934d2e",
       "version_major": 2,
       "version_minor": 0
      },
      "text/plain": [
       "  0%|          | 0/7 [00:00<?, ?ba/s]"
      ]
     },
     "metadata": {},
     "output_type": "display_data"
    },
    {
     "data": {
      "application/vnd.jupyter.widget-view+json": {
       "model_id": "fec274907abb4bb0a12b1704fc8df7b4",
       "version_major": 2,
       "version_minor": 0
      },
      "text/plain": [
       "  0%|          | 0/7 [00:00<?, ?ba/s]"
      ]
     },
     "metadata": {},
     "output_type": "display_data"
    },
    {
     "data": {
      "application/vnd.jupyter.widget-view+json": {
       "model_id": "5f7a841ab20d4d2eb190514346629dd2",
       "version_major": 2,
       "version_minor": 0
      },
      "text/plain": [
       "  0%|          | 0/7 [00:00<?, ?ba/s]"
      ]
     },
     "metadata": {},
     "output_type": "display_data"
    },
    {
     "name": "stdout",
     "output_type": "stream",
     "text": [
      "Total number of examples : 6553\n",
      "Number of positive examples : 616\n",
      "Fraction of positive examples : 0.09400274683351137\n",
      "Total number of articles : 79\n",
      "Numer of articles for positive examples : 61\n",
      "Numer of articles for negative examples : 78\n"
     ]
    }
   ],
   "source": [
    "def stats(data):\n",
    "    positive_fraction = len(data.filter(lambda x: x['label']==1))/len(data)\n",
    "    number_articles = len(set(data['pmcid']))\n",
    "    number_positive_articles = len(set(data.filter(lambda x: x['label']==1)['pmcid']))\n",
    "    number_negative_articles = len(set(data.filter(lambda x: x['label']==0)['pmcid']))\n",
    "    number_positive = len(data.filter(lambda x: x['label']==1))\n",
    "    print(f\"Total number of examples : {len(data)}\")\n",
    "    print(f\"Number of positive examples : {number_positive}\")\n",
    "    print(f\"Fraction of positive examples : {positive_fraction}\")\n",
    "    print(f\"Total number of articles : {number_articles}\")\n",
    "    print(f\"Numer of articles for positive examples : {number_positive_articles}\")\n",
    "    print(f\"Numer of articles for negative examples : {number_negative_articles}\")\n",
    "\n",
    "for split in ['test', 'validation', 'train']:\n",
    "    print(f\"Stats for the {split} split\")\n",
    "    stats(dataset[split])"
   ]
  },
  {
   "cell_type": "code",
   "execution_count": 13,
   "metadata": {},
   "outputs": [
    {
     "data": {
      "application/vnd.jupyter.widget-view+json": {
       "model_id": "db1d1c9a7c05452fae3062fcffbf5cfc",
       "version_major": 2,
       "version_minor": 0
      },
      "text/plain": [
       "  0%|          | 0/9 [00:00<?, ?ba/s]"
      ]
     },
     "metadata": {},
     "output_type": "display_data"
    },
    {
     "data": {
      "application/vnd.jupyter.widget-view+json": {
       "model_id": "391872a115c64309b1f6941c3aa366ad",
       "version_major": 2,
       "version_minor": 0
      },
      "text/plain": [
       "  0%|          | 0/9 [00:00<?, ?ba/s]"
      ]
     },
     "metadata": {},
     "output_type": "display_data"
    },
    {
     "data": {
      "application/vnd.jupyter.widget-view+json": {
       "model_id": "36056f296e344d808d789b8871626520",
       "version_major": 2,
       "version_minor": 0
      },
      "text/plain": [
       "  0%|          | 0/9 [00:00<?, ?ba/s]"
      ]
     },
     "metadata": {},
     "output_type": "display_data"
    },
    {
     "data": {
      "application/vnd.jupyter.widget-view+json": {
       "model_id": "e60bc6b6d5b647dea405c95cbe548ea9",
       "version_major": 2,
       "version_minor": 0
      },
      "text/plain": [
       "  0%|          | 0/9 [00:00<?, ?ba/s]"
      ]
     },
     "metadata": {},
     "output_type": "display_data"
    },
    {
     "name": "stdout",
     "output_type": "stream",
     "text": [
      "Total number of examples : 8442\n",
      "Number of positive examples : 794\n",
      "Fraction of positive examples : 0.09405354181473584\n",
      "Total number of articles : 81\n",
      "Numer of articles for positive examples : 64\n",
      "Numer of articles for negative examples : 79\n"
     ]
    }
   ],
   "source": [
    "stats(data)"
   ]
  },
  {
   "cell_type": "code",
   "execution_count": null,
   "metadata": {},
   "outputs": [],
   "source": [
    "data_dir = \"../../data/\"\n",
    "for split in ['test', 'train', 'validation']:\n",
    "    dataset[split].to_csv(f\"{data_dir}{split}.csv\", na_rep='None',index=False)"
   ]
  }
 ],
 "metadata": {
  "kernelspec": {
   "display_name": "jupyter",
   "language": "python",
   "name": "python3"
  },
  "language_info": {
   "codemirror_mode": {
    "name": "ipython",
    "version": 3
   },
   "file_extension": ".py",
   "mimetype": "text/x-python",
   "name": "python",
   "nbconvert_exporter": "python",
   "pygments_lexer": "ipython3",
   "version": "3.8.13"
  },
  "orig_nbformat": 4
 },
 "nbformat": 4,
 "nbformat_minor": 2
}
